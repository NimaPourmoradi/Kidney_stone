{
 "cells": [
  {
   "cell_type": "markdown",
   "id": "d9d5ce6e-99a6-4ca5-92f6-5d4afa3a7d50",
   "metadata": {},
   "source": [
    "<p style=\"text-align:center;\"><span style=\"font-size:80px;\"><span style=\"color:navy\"><span style=\"font-family:cursive;\"><span style=\"font-weight:1000\">Hi Everybody 👋</span></span></span></span></p>"
   ]
  },
  {
   "attachments": {},
   "cell_type": "markdown",
   "id": "4004338d-c646-441a-b60b-24af62da9f68",
   "metadata": {},
   "source": [
    "<img src=\"https://raw.githubusercontent.com/NimaPourmoradi/Kidney_stone/main/Kidney.jpg?token=GHSAT0AAAAAACJ74D4TJXOSU2N2YKMIZ4BAZKPEKHA\"/>"
   ]
  },
  {
   "cell_type": "markdown",
   "id": "7ad59290-c6ce-4ef2-ad76-86833516c873",
   "metadata": {},
   "source": [
    "<div style=\"border-radius:10px; padding: 15px; background-color: #e3e6fa; text-align:left; font-size:120%\">\n",
    "\n",
    "<h4 align=\"left\"><span style=\"font-weight:700; font-size:160%\"><font color=#d10202>Description:</font></span></h4>\n",
    "\n"
   ]
  },
  {
   "cell_type": "markdown",
   "id": "acea7d68-498b-4d5e-825e-1f02b1a12254",
   "metadata": {},
   "source": [
    "<a id=\"setup\"></a>\n",
    "# <p style=\"padding:15px;background-color:black ;margin:0;color:#ffffff;font-family:Chalkduster;font-size:75%;text-align:center;border-radius: 75px 75px;font-weight:700; box-shadow: 10px 10px 5px #32409c\">Table Of Content</p>"
   ]
  },
  {
   "cell_type": "markdown",
   "id": "e5226d6f-75e7-42d3-8716-ef0b2e479cf3",
   "metadata": {},
   "source": [
    "<a id=\"content\"></a>    \n",
    "<div style=\"border-radius:20px; padding: 15px; background-color: #e3e6fa; font-size:100%; text-align:left\">\n",
    "\n",
    "<h2><span style=\"text-align:center; font-weight:bolder; color:navy\">Table of Contents:</span></h2>\n",
    "\n",
    " * **[Step 1 | Nessesary Libraries](#setup)**\n",
    "    -  [1.1 | Import Libraries](#import)\n",
    "    -  [1.2 | Library configurations](#lib_config)\n",
    " *  **[Step 2 | Data](#data)**\n",
    "    -  [2.1 | Collecting Data](#load_data)\n",
    "    -  [2.2 | Data purification](#data_pure)\n",
    " *  **[Step 3 | Data Wrangling](#data_wrangling)**\n",
    "    -  [3.1 | Missing Values](#missing)\n",
    "    -  [3.2 | Data Analysis](#analysis)\n",
    "    -  [3.3 | Plots](#plots)\n",
    "    -  [3.4 | One Hot Encoder](#onehot)\n",
    "    -  [3.5 | Geographic Map](#geomap)\n",
    " *  **[Step 4 | Macine Learning](#ml)**\n",
    "    -  [4.1 | Initializations](#init)\n",
    "    -  [4.2 | LogisticRegression](#lr)\n",
    "    -  [4.3 | SVC](#svc)\n",
    "    -  [4.4 | DecisionTreeClassifier](#tree)\n",
    "    -  [4.5 | KNeighborsClassifier](#knn)\n",
    "    -  [4.6 | result](#result)\n",
    " *  **[Author](#author)**"
   ]
  },
  {
   "cell_type": "markdown",
   "id": "bd1b29a7-5244-454a-afd4-05d879c14f2c",
   "metadata": {},
   "source": [
    "<a id=\"setup\"></a>\n",
    "# <p style=\"padding:15px;background-color:black ;margin:0;color:#ffffff;font-family:Chalkduster;font-size:75%;text-align:center;border-radius: 75px 75px;font-weight:700; box-shadow: 10px 10px 5px #32409c\">Step 1 | Nessasary Libraries</p>"
   ]
  },
  {
   "cell_type": "markdown",
   "id": "9930630c-b80a-429a-a15a-62bb3b0e8851",
   "metadata": {},
   "source": [
    "<a id=\"import\"></a>\n",
    "# <b><span style=\"color:#0266b7\">Step 1.1 | </span><span style=\"color:#ff6200\">Import Libraries</span></b>"
   ]
  },
  {
   "cell_type": "code",
   "execution_count": 2,
   "id": "4dbea63a-6290-4290-84f4-576058c0ff02",
   "metadata": {},
   "outputs": [],
   "source": [
    "import pandas as pd\n",
    "# import numpy as np\n",
    "import seaborn as sns\n",
    "import matplotlib.pyplot as plt\n",
    "import warnings\n"
   ]
  },
  {
   "cell_type": "markdown",
   "id": "821df30e-1682-46a9-b628-cbe44f78ac3c",
   "metadata": {},
   "source": [
    "<a id=\"import\"></a>\n",
    "# <b><span style=\"color:#0266b7\">Step 1.2 | </span><span style=\"color:#ff6200\">Library configurations</span></b>"
   ]
  },
  {
   "cell_type": "code",
   "execution_count": 3,
   "id": "e2036729-999b-4546-b659-ae1ac6434362",
   "metadata": {},
   "outputs": [],
   "source": [
    "pd.options.mode.copy_on_write = True # Allow re-write on variable\n",
    "sns.set_style('darkgrid') # Seaborn style\n",
    "warnings.filterwarnings('ignore') # Ignore warnings\n",
    "pd.set_option('display.max_columns', None) # Setting this option will print all collumns of a dataframe\n",
    "pd.set_option('display.max_colwidth', None) # Setting this option will print all of the data in a feature"
   ]
  },
  {
   "cell_type": "code",
   "execution_count": null,
   "id": "58a26a5a-b8d6-443a-9ec5-db9c5153e3f0",
   "metadata": {},
   "outputs": [],
   "source": [
    "pd.options.mode.copy_on_write = True # Allow re-write on variable\n",
    "sns.set_style('darkgrid') # Seaborn style\n",
    "warnings.filterwarnings('ignore') # Ignore warnings\n",
    "pd.set_option('display.max_columns', None) # Setting this option will print all collumns of a dataframe\n",
    "pd.set_option('display.max_colwidth', None) # Setting this option will print all of the data in a feature"
   ]
  }
 ],
 "metadata": {
  "kernelspec": {
   "display_name": "Python 3 (ipykernel)",
   "language": "python",
   "name": "python3"
  },
  "language_info": {
   "codemirror_mode": {
    "name": "ipython",
    "version": 3
   },
   "file_extension": ".py",
   "mimetype": "text/x-python",
   "name": "python",
   "nbconvert_exporter": "python",
   "pygments_lexer": "ipython3",
   "version": "3.11.3"
  }
 },
 "nbformat": 4,
 "nbformat_minor": 5
}
